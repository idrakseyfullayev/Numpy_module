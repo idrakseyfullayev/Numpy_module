{
 "cells": [
  {
   "cell_type": "markdown",
   "id": "f096c4d5",
   "metadata": {},
   "source": [
    "## Changing the shape, axes_Theory"
   ]
  },
  {
   "cell_type": "markdown",
   "id": "c7e83500",
   "metadata": {},
   "source": [
    "---\n",
    "\n",
    "* **shape = (2, 5)** – Massivi 2 sətir və 5 sütundan ibarət olur bir massivə çevirir.\n",
    "  `arr.shape = 2,5`\n",
    "\n",
    "---\n",
    "\n",
    "* **reshape** – Massivin formasını dəyişərək eyni element sayını qorumaqla yeni ölçüyə salır.\n",
    "  `arr.reshape(2, 5)`\n",
    "\n",
    "---\n",
    "\n",
    "* **ravel()** – Massivi 1 ölçülü (flattened) massivə çevirir, mümkün olduqda orijinal verilənlərə bağlı olur.\n",
    "  `arr_flat = arr.ravel()`\n",
    "\n",
    "---\n",
    "\n",
    "* **resize** – Massivin ölçüsünü dəyişdirir, lazım olsa verilənləri kəsir və ya sıfırla doldurur.\n",
    "  `arr.resize((2, 5))`\n",
    "- **Qeyd**: resize isə array-in element sayını dəyişir, lazım gələrsə, yeni elementlər əlavə edir və ya silir.\n",
    "\n",
    "---\n",
    "\n",
    "* **np.expand\\_dims()** – Massivə əlavə ölçü (dimension) əlavə etmək üçün istifadə olunur.\n",
    "  `arr_exp = np.expand_dims(arr, axis=0)`\n",
    "\n",
    "---\n",
    "\n",
    "* **np.append()** – Verilmiş massivə yeni element və ya massiv əlavə etmək üçün.\n",
    "  `arr_new = np.append(arr, [10, 20])`\n",
    "\n",
    "---\n",
    "\n",
    "* **np.delete** – Verilmiş massivdən element və ya hissə silmək üçün istifadə olunur.\n",
    "  `arr_new = np.delete(arr, [0, 2])`\n",
    "\n",
    "---\n",
    "\n",
    "* **np.delete(a, 0, axis=0)** – `a` massivindən 0-cı sətiri (axis=0 üzrə) silir.\n",
    "  `new_arr = np.delete(a, 0, axis=0)`\n",
    "\n",
    "---\n",
    "\n",
    "* **np.squeeze()** – Massivdən ölçüsü `1` olan oxları (axis) silmək üçün istifadə olunur.\n",
    "  `arr_squeezed = np.squeeze(arr)`\n",
    "  \n",
    "* **np.squeeze(b, axis=0)** — yalnız axis=0 oxunun ölçüsü 1-disə onu silir, əks halda xəta verir\n",
    "\n",
    "---\n",
    "\n",
    "* **arr[np.newaxis, :]** – Massivə yeni ölçü əlavə edir, burada sətir oxu üzrə (0-cı ox) yeni ölçü yaranır.\n",
    "  `expanded = a[np.newaxis, :]`\n",
    "\n",
    "* **arr[:, np.newaxis]** – Massivə sütun oxu üzrə (1-ci ox) yeni ölçü əlavə edir.\n",
    "  `expanded = a[:, np.newaxis]`\n",
    "\n",
    "* **arr[np.newaxis, :, np.newaxis]** – Massivə həm 0-cı, həm də 2-ci ox üzrə yeni ölçülər əlavə edir.\n",
    "  `expanded = a[np.newaxis, :, np.newaxis]`\n",
    "\n",
    "---"
   ]
  },
  {
   "cell_type": "code",
   "execution_count": null,
   "id": "4666598d",
   "metadata": {},
   "outputs": [],
   "source": []
  }
 ],
 "metadata": {
  "kernelspec": {
   "display_name": "Python 3 (ipykernel)",
   "language": "python",
   "name": "python3"
  },
  "language_info": {
   "codemirror_mode": {
    "name": "ipython",
    "version": 3
   },
   "file_extension": ".py",
   "mimetype": "text/x-python",
   "name": "python",
   "nbconvert_exporter": "python",
   "pygments_lexer": "ipython3",
   "version": "3.11.5"
  }
 },
 "nbformat": 4,
 "nbformat_minor": 5
}
