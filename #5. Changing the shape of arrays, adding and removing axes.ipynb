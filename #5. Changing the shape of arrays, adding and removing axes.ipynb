{
 "cells": [
  {
   "cell_type": "code",
   "execution_count": 47,
   "id": "2d3bc9ce",
   "metadata": {},
   "outputs": [],
   "source": [
    "import numpy as np"
   ]
  },
  {
   "cell_type": "code",
   "execution_count": 48,
   "id": "47f3d6d4",
   "metadata": {},
   "outputs": [],
   "source": [
    "a = np.arange(10)"
   ]
  },
  {
   "cell_type": "code",
   "execution_count": 49,
   "id": "0db88133",
   "metadata": {},
   "outputs": [
    {
     "data": {
      "text/plain": [
       "array([0, 1, 2, 3, 4, 5, 6, 7, 8, 9])"
      ]
     },
     "execution_count": 49,
     "metadata": {},
     "output_type": "execute_result"
    }
   ],
   "source": [
    "a"
   ]
  },
  {
   "cell_type": "code",
   "execution_count": 50,
   "id": "dfa91a97",
   "metadata": {},
   "outputs": [],
   "source": [
    "a.shape = 2, 5"
   ]
  },
  {
   "cell_type": "code",
   "execution_count": 51,
   "id": "c24134b5",
   "metadata": {},
   "outputs": [
    {
     "data": {
      "text/plain": [
       "array([[0, 1, 2, 3, 4],\n",
       "       [5, 6, 7, 8, 9]])"
      ]
     },
     "execution_count": 51,
     "metadata": {},
     "output_type": "execute_result"
    }
   ],
   "source": [
    "a"
   ]
  },
  {
   "cell_type": "code",
   "execution_count": 52,
   "id": "ed832461",
   "metadata": {},
   "outputs": [],
   "source": [
    "b = a.reshape(10)"
   ]
  },
  {
   "cell_type": "code",
   "execution_count": 53,
   "id": "2ae4ba0a",
   "metadata": {},
   "outputs": [
    {
     "data": {
      "text/plain": [
       "array([0, 1, 2, 3, 4, 5, 6, 7, 8, 9])"
      ]
     },
     "execution_count": 53,
     "metadata": {},
     "output_type": "execute_result"
    }
   ],
   "source": [
    "b"
   ]
  },
  {
   "cell_type": "code",
   "execution_count": 54,
   "id": "6861aabd",
   "metadata": {},
   "outputs": [
    {
     "data": {
      "text/plain": [
       "array([[0, 1, 2, 3, 4],\n",
       "       [5, 6, 7, 8, 9]])"
      ]
     },
     "execution_count": 54,
     "metadata": {},
     "output_type": "execute_result"
    }
   ],
   "source": [
    "a"
   ]
  },
  {
   "cell_type": "code",
   "execution_count": 55,
   "id": "03458db4",
   "metadata": {},
   "outputs": [],
   "source": [
    "b[0] = -1"
   ]
  },
  {
   "cell_type": "code",
   "execution_count": 56,
   "id": "c9b9e863",
   "metadata": {},
   "outputs": [
    {
     "data": {
      "text/plain": [
       "array([-1,  1,  2,  3,  4,  5,  6,  7,  8,  9])"
      ]
     },
     "execution_count": 56,
     "metadata": {},
     "output_type": "execute_result"
    }
   ],
   "source": [
    "b"
   ]
  },
  {
   "cell_type": "code",
   "execution_count": 57,
   "id": "92c1f795",
   "metadata": {},
   "outputs": [
    {
     "data": {
      "text/plain": [
       "array([[-1,  1,  2,  3,  4],\n",
       "       [ 5,  6,  7,  8,  9]])"
      ]
     },
     "execution_count": 57,
     "metadata": {},
     "output_type": "execute_result"
    }
   ],
   "source": [
    "a"
   ]
  },
  {
   "cell_type": "code",
   "execution_count": 58,
   "id": "543dc519",
   "metadata": {},
   "outputs": [
    {
     "ename": "ValueError",
     "evalue": "cannot reshape array of size 10 into shape (9,)",
     "output_type": "error",
     "traceback": [
      "\u001b[1;31m---------------------------------------------------------------------------\u001b[0m",
      "\u001b[1;31mValueError\u001b[0m                                Traceback (most recent call last)",
      "Cell \u001b[1;32mIn[58], line 1\u001b[0m\n\u001b[1;32m----> 1\u001b[0m b \u001b[38;5;241m=\u001b[39m \u001b[43ma\u001b[49m\u001b[38;5;241;43m.\u001b[39;49m\u001b[43mreshape\u001b[49m\u001b[43m(\u001b[49m\u001b[38;5;241;43m9\u001b[39;49m\u001b[43m)\u001b[49m\n",
      "\u001b[1;31mValueError\u001b[0m: cannot reshape array of size 10 into shape (9,)"
     ]
    }
   ],
   "source": [
    "b = a.reshape(9)"
   ]
  },
  {
   "cell_type": "code",
   "execution_count": 59,
   "id": "5b6b6415",
   "metadata": {},
   "outputs": [
    {
     "ename": "ValueError",
     "evalue": "cannot reshape array of size 10 into shape (3,3)",
     "output_type": "error",
     "traceback": [
      "\u001b[1;31m---------------------------------------------------------------------------\u001b[0m",
      "\u001b[1;31mValueError\u001b[0m                                Traceback (most recent call last)",
      "Cell \u001b[1;32mIn[59], line 1\u001b[0m\n\u001b[1;32m----> 1\u001b[0m a\u001b[38;5;241m.\u001b[39mshape \u001b[38;5;241m=\u001b[39m \u001b[38;5;241m3\u001b[39m, \u001b[38;5;241m3\u001b[39m\n",
      "\u001b[1;31mValueError\u001b[0m: cannot reshape array of size 10 into shape (3,3)"
     ]
    }
   ],
   "source": [
    "a.shape = 3, 3"
   ]
  },
  {
   "cell_type": "code",
   "execution_count": 60,
   "id": "5eb4de08",
   "metadata": {},
   "outputs": [],
   "source": [
    "a.shape = -1, 2"
   ]
  },
  {
   "cell_type": "code",
   "execution_count": 61,
   "id": "9722e4a3",
   "metadata": {},
   "outputs": [
    {
     "data": {
      "text/plain": [
       "array([[-1,  1],\n",
       "       [ 2,  3],\n",
       "       [ 4,  5],\n",
       "       [ 6,  7],\n",
       "       [ 8,  9]])"
      ]
     },
     "execution_count": 61,
     "metadata": {},
     "output_type": "execute_result"
    }
   ],
   "source": [
    "a"
   ]
  },
  {
   "cell_type": "code",
   "execution_count": 62,
   "id": "a56eaa6c",
   "metadata": {},
   "outputs": [],
   "source": [
    "a.shape = -1, 5"
   ]
  },
  {
   "cell_type": "code",
   "execution_count": 63,
   "id": "d87af56c",
   "metadata": {},
   "outputs": [
    {
     "data": {
      "text/plain": [
       "array([[-1,  1,  2,  3,  4],\n",
       "       [ 5,  6,  7,  8,  9]])"
      ]
     },
     "execution_count": 63,
     "metadata": {},
     "output_type": "execute_result"
    }
   ],
   "source": [
    "a"
   ]
  },
  {
   "cell_type": "code",
   "execution_count": 64,
   "id": "84e92f88",
   "metadata": {},
   "outputs": [
    {
     "data": {
      "text/plain": [
       "array([-1,  1,  2,  3,  4,  5,  6,  7,  8,  9])"
      ]
     },
     "execution_count": 64,
     "metadata": {},
     "output_type": "execute_result"
    }
   ],
   "source": [
    "b"
   ]
  },
  {
   "cell_type": "code",
   "execution_count": 65,
   "id": "b028850e",
   "metadata": {},
   "outputs": [
    {
     "data": {
      "text/plain": [
       "array([[-1],\n",
       "       [ 1],\n",
       "       [ 2],\n",
       "       [ 3],\n",
       "       [ 4],\n",
       "       [ 5],\n",
       "       [ 6],\n",
       "       [ 7],\n",
       "       [ 8],\n",
       "       [ 9]])"
      ]
     },
     "execution_count": 65,
     "metadata": {},
     "output_type": "execute_result"
    }
   ],
   "source": [
    "b.reshape(-1, 1)"
   ]
  },
  {
   "cell_type": "code",
   "execution_count": 66,
   "id": "710d5444",
   "metadata": {},
   "outputs": [
    {
     "data": {
      "text/plain": [
       "array([-1,  1,  2,  3,  4,  5,  6,  7,  8,  9])"
      ]
     },
     "execution_count": 66,
     "metadata": {},
     "output_type": "execute_result"
    }
   ],
   "source": [
    "b"
   ]
  },
  {
   "cell_type": "code",
   "execution_count": 67,
   "id": "0efe78b8",
   "metadata": {},
   "outputs": [
    {
     "data": {
      "text/plain": [
       "array([[-1,  1,  2,  3,  4,  5,  6,  7,  8,  9]])"
      ]
     },
     "execution_count": 67,
     "metadata": {},
     "output_type": "execute_result"
    }
   ],
   "source": [
    "b.reshape(1, -1)"
   ]
  },
  {
   "cell_type": "code",
   "execution_count": 68,
   "id": "dc0e68c0",
   "metadata": {},
   "outputs": [
    {
     "data": {
      "text/plain": [
       "array([[-1,  1,  2,  3,  4],\n",
       "       [ 5,  6,  7,  8,  9]])"
      ]
     },
     "execution_count": 68,
     "metadata": {},
     "output_type": "execute_result"
    }
   ],
   "source": [
    "a"
   ]
  },
  {
   "cell_type": "code",
   "execution_count": 69,
   "id": "d936844a",
   "metadata": {},
   "outputs": [
    {
     "data": {
      "text/plain": [
       "array([-1,  1,  2,  3,  4,  5,  6,  7,  8,  9])"
      ]
     },
     "execution_count": 69,
     "metadata": {},
     "output_type": "execute_result"
    }
   ],
   "source": [
    "a.ravel()"
   ]
  },
  {
   "cell_type": "code",
   "execution_count": 70,
   "id": "8f198810",
   "metadata": {},
   "outputs": [
    {
     "data": {
      "text/plain": [
       "array([[-1,  1,  2,  3,  4],\n",
       "       [ 5,  6,  7,  8,  9]])"
      ]
     },
     "execution_count": 70,
     "metadata": {},
     "output_type": "execute_result"
    }
   ],
   "source": [
    "a"
   ]
  },
  {
   "cell_type": "code",
   "execution_count": 71,
   "id": "e5e5c3af",
   "metadata": {},
   "outputs": [],
   "source": [
    "c = a.ravel()"
   ]
  },
  {
   "cell_type": "code",
   "execution_count": 72,
   "id": "192a1afa",
   "metadata": {},
   "outputs": [
    {
     "data": {
      "text/plain": [
       "array([-1,  1,  2,  3,  4,  5,  6,  7,  8,  9])"
      ]
     },
     "execution_count": 72,
     "metadata": {},
     "output_type": "execute_result"
    }
   ],
   "source": [
    "c"
   ]
  },
  {
   "cell_type": "code",
   "execution_count": 73,
   "id": "aa53456b",
   "metadata": {},
   "outputs": [
    {
     "data": {
      "text/plain": [
       "array([[-1,  1,  2,  3,  4],\n",
       "       [ 5,  6,  7,  8,  9]])"
      ]
     },
     "execution_count": 73,
     "metadata": {},
     "output_type": "execute_result"
    }
   ],
   "source": [
    "a"
   ]
  },
  {
   "cell_type": "code",
   "execution_count": 74,
   "id": "c3c94f5d",
   "metadata": {},
   "outputs": [],
   "source": [
    "c[0] = 1"
   ]
  },
  {
   "cell_type": "code",
   "execution_count": 75,
   "id": "5925f5ba",
   "metadata": {},
   "outputs": [
    {
     "data": {
      "text/plain": [
       "array([1, 1, 2, 3, 4, 5, 6, 7, 8, 9])"
      ]
     },
     "execution_count": 75,
     "metadata": {},
     "output_type": "execute_result"
    }
   ],
   "source": [
    "c"
   ]
  },
  {
   "cell_type": "code",
   "execution_count": 76,
   "id": "aa9a5a63",
   "metadata": {},
   "outputs": [
    {
     "data": {
      "text/plain": [
       "array([[1, 1, 2, 3, 4],\n",
       "       [5, 6, 7, 8, 9]])"
      ]
     },
     "execution_count": 76,
     "metadata": {},
     "output_type": "execute_result"
    }
   ],
   "source": [
    "a"
   ]
  },
  {
   "cell_type": "code",
   "execution_count": 77,
   "id": "32537cdc",
   "metadata": {},
   "outputs": [],
   "source": [
    "a.shape = -1"
   ]
  },
  {
   "cell_type": "code",
   "execution_count": 78,
   "id": "eb45b88f",
   "metadata": {},
   "outputs": [
    {
     "data": {
      "text/plain": [
       "array([1, 1, 2, 3, 4, 5, 6, 7, 8, 9])"
      ]
     },
     "execution_count": 78,
     "metadata": {},
     "output_type": "execute_result"
    }
   ],
   "source": [
    "a"
   ]
  },
  {
   "cell_type": "code",
   "execution_count": 79,
   "id": "efcdea43",
   "metadata": {},
   "outputs": [
    {
     "data": {
      "text/plain": [
       "array([[1, 1, 2, 3, 4],\n",
       "       [5, 6, 7, 8, 9]])"
      ]
     },
     "execution_count": 79,
     "metadata": {},
     "output_type": "execute_result"
    }
   ],
   "source": [
    "a.reshape(2, 5)"
   ]
  },
  {
   "cell_type": "code",
   "execution_count": 80,
   "id": "279c4942",
   "metadata": {},
   "outputs": [
    {
     "data": {
      "text/plain": [
       "array([1, 1, 2, 3, 4, 5, 6, 7, 8, 9])"
      ]
     },
     "execution_count": 80,
     "metadata": {},
     "output_type": "execute_result"
    }
   ],
   "source": [
    "a"
   ]
  },
  {
   "cell_type": "code",
   "execution_count": 81,
   "id": "017682a6",
   "metadata": {},
   "outputs": [],
   "source": [
    "a.resize(2, 5)"
   ]
  },
  {
   "cell_type": "code",
   "execution_count": 82,
   "id": "20bc9f67",
   "metadata": {},
   "outputs": [
    {
     "data": {
      "text/plain": [
       "array([[1, 1, 2, 3, 4],\n",
       "       [5, 6, 7, 8, 9]])"
      ]
     },
     "execution_count": 82,
     "metadata": {},
     "output_type": "execute_result"
    }
   ],
   "source": [
    "a"
   ]
  },
  {
   "cell_type": "code",
   "execution_count": 83,
   "id": "7be7c8be",
   "metadata": {},
   "outputs": [
    {
     "ename": "ValueError",
     "evalue": "cannot resize an array that references or is referenced\nby another array in this way.\nUse the np.resize function or refcheck=False",
     "output_type": "error",
     "traceback": [
      "\u001b[1;31m---------------------------------------------------------------------------\u001b[0m",
      "\u001b[1;31mValueError\u001b[0m                                Traceback (most recent call last)",
      "Cell \u001b[1;32mIn[83], line 1\u001b[0m\n\u001b[1;32m----> 1\u001b[0m \u001b[43ma\u001b[49m\u001b[38;5;241;43m.\u001b[39;49m\u001b[43mresize\u001b[49m\u001b[43m(\u001b[49m\u001b[38;5;241;43m3\u001b[39;49m\u001b[43m,\u001b[49m\u001b[43m \u001b[49m\u001b[38;5;241;43m3\u001b[39;49m\u001b[43m)\u001b[49m\n",
      "\u001b[1;31mValueError\u001b[0m: cannot resize an array that references or is referenced\nby another array in this way.\nUse the np.resize function or refcheck=False"
     ]
    }
   ],
   "source": [
    "a.resize(3, 3)"
   ]
  },
  {
   "cell_type": "code",
   "execution_count": 84,
   "id": "a6d5959d",
   "metadata": {},
   "outputs": [],
   "source": [
    "a.resize(3, 3, refcheck=False)"
   ]
  },
  {
   "cell_type": "code",
   "execution_count": 85,
   "id": "3b879f33",
   "metadata": {},
   "outputs": [
    {
     "data": {
      "text/plain": [
       "array([[1, 1, 2],\n",
       "       [3, 4, 5],\n",
       "       [6, 7, 8]])"
      ]
     },
     "execution_count": 85,
     "metadata": {},
     "output_type": "execute_result"
    }
   ],
   "source": [
    "a"
   ]
  },
  {
   "cell_type": "code",
   "execution_count": 87,
   "id": "544b3051",
   "metadata": {},
   "outputs": [],
   "source": [
    "a.resize(4, 5, refcheck=False)"
   ]
  },
  {
   "cell_type": "code",
   "execution_count": 88,
   "id": "1316cffc",
   "metadata": {},
   "outputs": [
    {
     "data": {
      "text/plain": [
       "array([[1, 1, 2, 3, 4],\n",
       "       [5, 6, 7, 8, 0],\n",
       "       [0, 0, 0, 0, 0],\n",
       "       [0, 0, 0, 0, 0]])"
      ]
     },
     "execution_count": 88,
     "metadata": {},
     "output_type": "execute_result"
    }
   ],
   "source": [
    "a"
   ]
  },
  {
   "cell_type": "code",
   "execution_count": 108,
   "id": "f4646878",
   "metadata": {},
   "outputs": [],
   "source": [
    "a = np.array([(1, 2, 3), (1, 4, 9), (1, 8, 27)])"
   ]
  },
  {
   "cell_type": "code",
   "execution_count": 109,
   "id": "ed43de44",
   "metadata": {},
   "outputs": [
    {
     "data": {
      "text/plain": [
       "array([[ 1,  2,  3],\n",
       "       [ 1,  4,  9],\n",
       "       [ 1,  8, 27]])"
      ]
     },
     "execution_count": 109,
     "metadata": {},
     "output_type": "execute_result"
    }
   ],
   "source": [
    "a"
   ]
  },
  {
   "cell_type": "code",
   "execution_count": 110,
   "id": "59c19e52",
   "metadata": {},
   "outputs": [],
   "source": [
    "b = a.T"
   ]
  },
  {
   "cell_type": "code",
   "execution_count": 111,
   "id": "e2437e91",
   "metadata": {},
   "outputs": [
    {
     "data": {
      "text/plain": [
       "array([[ 1,  1,  1],\n",
       "       [ 2,  4,  8],\n",
       "       [ 3,  9, 27]])"
      ]
     },
     "execution_count": 111,
     "metadata": {},
     "output_type": "execute_result"
    }
   ],
   "source": [
    "b"
   ]
  },
  {
   "cell_type": "code",
   "execution_count": 112,
   "id": "f5321754",
   "metadata": {},
   "outputs": [],
   "source": [
    "b[0, 0] = 100"
   ]
  },
  {
   "cell_type": "code",
   "execution_count": 113,
   "id": "8772d0a1",
   "metadata": {},
   "outputs": [
    {
     "data": {
      "text/plain": [
       "array([[100,   1,   1],\n",
       "       [  2,   4,   8],\n",
       "       [  3,   9,  27]])"
      ]
     },
     "execution_count": 113,
     "metadata": {},
     "output_type": "execute_result"
    }
   ],
   "source": [
    "b"
   ]
  },
  {
   "cell_type": "code",
   "execution_count": 114,
   "id": "8637145a",
   "metadata": {},
   "outputs": [
    {
     "data": {
      "text/plain": [
       "array([[100,   2,   3],\n",
       "       [  1,   4,   9],\n",
       "       [  1,   8,  27]])"
      ]
     },
     "execution_count": 114,
     "metadata": {},
     "output_type": "execute_result"
    }
   ],
   "source": [
    "a"
   ]
  },
  {
   "cell_type": "code",
   "execution_count": 115,
   "id": "3c26f5f5",
   "metadata": {},
   "outputs": [],
   "source": [
    "b[1, 0] = 100"
   ]
  },
  {
   "cell_type": "code",
   "execution_count": 116,
   "id": "6b9da451",
   "metadata": {},
   "outputs": [
    {
     "data": {
      "text/plain": [
       "array([[100,   1,   1],\n",
       "       [100,   4,   8],\n",
       "       [  3,   9,  27]])"
      ]
     },
     "execution_count": 116,
     "metadata": {},
     "output_type": "execute_result"
    }
   ],
   "source": [
    "b"
   ]
  },
  {
   "cell_type": "code",
   "execution_count": 117,
   "id": "4de9e21f",
   "metadata": {},
   "outputs": [
    {
     "data": {
      "text/plain": [
       "array([[100, 100,   3],\n",
       "       [  1,   4,   9],\n",
       "       [  1,   8,  27]])"
      ]
     },
     "execution_count": 117,
     "metadata": {},
     "output_type": "execute_result"
    }
   ],
   "source": [
    "a"
   ]
  },
  {
   "cell_type": "code",
   "execution_count": 137,
   "id": "af7912c0",
   "metadata": {},
   "outputs": [],
   "source": [
    "x = np.arange(1, 10)"
   ]
  },
  {
   "cell_type": "code",
   "execution_count": 138,
   "id": "48a96915",
   "metadata": {},
   "outputs": [
    {
     "data": {
      "text/plain": [
       "array([1, 2, 3, 4, 5, 6, 7, 8, 9])"
      ]
     },
     "execution_count": 138,
     "metadata": {},
     "output_type": "execute_result"
    }
   ],
   "source": [
    "x"
   ]
  },
  {
   "cell_type": "code",
   "execution_count": 139,
   "id": "02897867",
   "metadata": {},
   "outputs": [
    {
     "data": {
      "text/plain": [
       "array([1, 2, 3, 4, 5, 6, 7, 8, 9])"
      ]
     },
     "execution_count": 139,
     "metadata": {},
     "output_type": "execute_result"
    }
   ],
   "source": [
    "x.T"
   ]
  },
  {
   "cell_type": "code",
   "execution_count": 140,
   "id": "a8b5a073",
   "metadata": {},
   "outputs": [],
   "source": [
    "x.shape = 1, -1"
   ]
  },
  {
   "cell_type": "code",
   "execution_count": 141,
   "id": "54d9d05c",
   "metadata": {},
   "outputs": [
    {
     "data": {
      "text/plain": [
       "array([[1, 2, 3, 4, 5, 6, 7, 8, 9]])"
      ]
     },
     "execution_count": 141,
     "metadata": {},
     "output_type": "execute_result"
    }
   ],
   "source": [
    "x"
   ]
  },
  {
   "cell_type": "code",
   "execution_count": 142,
   "id": "e6c4054f",
   "metadata": {},
   "outputs": [
    {
     "data": {
      "text/plain": [
       "array([[1],\n",
       "       [2],\n",
       "       [3],\n",
       "       [4],\n",
       "       [5],\n",
       "       [6],\n",
       "       [7],\n",
       "       [8],\n",
       "       [9]])"
      ]
     },
     "execution_count": 142,
     "metadata": {},
     "output_type": "execute_result"
    }
   ],
   "source": [
    "x.T"
   ]
  },
  {
   "cell_type": "code",
   "execution_count": 144,
   "id": "982b2d8b",
   "metadata": {},
   "outputs": [],
   "source": [
    "x = np.arange(1, 10)"
   ]
  },
  {
   "cell_type": "code",
   "execution_count": 145,
   "id": "9fe3a311",
   "metadata": {},
   "outputs": [
    {
     "data": {
      "text/plain": [
       "array([1, 2, 3, 4, 5, 6, 7, 8, 9])"
      ]
     },
     "execution_count": 145,
     "metadata": {},
     "output_type": "execute_result"
    }
   ],
   "source": [
    "x"
   ]
  },
  {
   "cell_type": "code",
   "execution_count": 146,
   "id": "c3a85573",
   "metadata": {},
   "outputs": [],
   "source": [
    "x.shape = -1, 1"
   ]
  },
  {
   "cell_type": "code",
   "execution_count": 147,
   "id": "d562dd3c",
   "metadata": {},
   "outputs": [
    {
     "data": {
      "text/plain": [
       "array([[1],\n",
       "       [2],\n",
       "       [3],\n",
       "       [4],\n",
       "       [5],\n",
       "       [6],\n",
       "       [7],\n",
       "       [8],\n",
       "       [9]])"
      ]
     },
     "execution_count": 147,
     "metadata": {},
     "output_type": "execute_result"
    }
   ],
   "source": [
    "x"
   ]
  },
  {
   "cell_type": "code",
   "execution_count": 149,
   "id": "db30bdff",
   "metadata": {},
   "outputs": [],
   "source": [
    "x_test = np.arange(32).reshape(8, 2, 2)"
   ]
  },
  {
   "cell_type": "code",
   "execution_count": 150,
   "id": "650be99c",
   "metadata": {},
   "outputs": [
    {
     "data": {
      "text/plain": [
       "array([[[ 0,  1],\n",
       "        [ 2,  3]],\n",
       "\n",
       "       [[ 4,  5],\n",
       "        [ 6,  7]],\n",
       "\n",
       "       [[ 8,  9],\n",
       "        [10, 11]],\n",
       "\n",
       "       [[12, 13],\n",
       "        [14, 15]],\n",
       "\n",
       "       [[16, 17],\n",
       "        [18, 19]],\n",
       "\n",
       "       [[20, 21],\n",
       "        [22, 23]],\n",
       "\n",
       "       [[24, 25],\n",
       "        [26, 27]],\n",
       "\n",
       "       [[28, 29],\n",
       "        [30, 31]]])"
      ]
     },
     "execution_count": 150,
     "metadata": {},
     "output_type": "execute_result"
    }
   ],
   "source": [
    "x_test"
   ]
  },
  {
   "cell_type": "code",
   "execution_count": 153,
   "id": "06a3732f",
   "metadata": {},
   "outputs": [
    {
     "data": {
      "text/plain": [
       "(8, 2, 2)"
      ]
     },
     "execution_count": 153,
     "metadata": {},
     "output_type": "execute_result"
    }
   ],
   "source": [
    "x_test.shape"
   ]
  },
  {
   "cell_type": "code",
   "execution_count": 155,
   "id": "3ea83921",
   "metadata": {},
   "outputs": [],
   "source": [
    "x_test4 = np.expand_dims(x_test, axis=0)"
   ]
  },
  {
   "cell_type": "code",
   "execution_count": 156,
   "id": "396ab7ce",
   "metadata": {},
   "outputs": [
    {
     "data": {
      "text/plain": [
       "(1, 8, 2, 2)"
      ]
     },
     "execution_count": 156,
     "metadata": {},
     "output_type": "execute_result"
    }
   ],
   "source": [
    "x_test4.shape"
   ]
  },
  {
   "cell_type": "code",
   "execution_count": 158,
   "id": "46a4098b",
   "metadata": {
    "scrolled": false
   },
   "outputs": [
    {
     "data": {
      "text/plain": [
       "array([[[[ 0,  1],\n",
       "         [ 2,  3]],\n",
       "\n",
       "        [[ 4,  5],\n",
       "         [ 6,  7]],\n",
       "\n",
       "        [[ 8,  9],\n",
       "         [10, 11]],\n",
       "\n",
       "        [[12, 13],\n",
       "         [14, 15]],\n",
       "\n",
       "        [[16, 17],\n",
       "         [18, 19]],\n",
       "\n",
       "        [[20, 21],\n",
       "         [22, 23]],\n",
       "\n",
       "        [[24, 25],\n",
       "         [26, 27]],\n",
       "\n",
       "        [[28, 29],\n",
       "         [30, 31]]]])"
      ]
     },
     "execution_count": 158,
     "metadata": {},
     "output_type": "execute_result"
    }
   ],
   "source": [
    "x_test4"
   ]
  },
  {
   "cell_type": "code",
   "execution_count": 159,
   "id": "76e88e87",
   "metadata": {},
   "outputs": [],
   "source": [
    "x_test4[0, 0, 0, 0] = -100"
   ]
  },
  {
   "cell_type": "code",
   "execution_count": 160,
   "id": "8a0da5eb",
   "metadata": {},
   "outputs": [
    {
     "data": {
      "text/plain": [
       "array([[[[-100,    1],\n",
       "         [   2,    3]],\n",
       "\n",
       "        [[   4,    5],\n",
       "         [   6,    7]],\n",
       "\n",
       "        [[   8,    9],\n",
       "         [  10,   11]],\n",
       "\n",
       "        [[  12,   13],\n",
       "         [  14,   15]],\n",
       "\n",
       "        [[  16,   17],\n",
       "         [  18,   19]],\n",
       "\n",
       "        [[  20,   21],\n",
       "         [  22,   23]],\n",
       "\n",
       "        [[  24,   25],\n",
       "         [  26,   27]],\n",
       "\n",
       "        [[  28,   29],\n",
       "         [  30,   31]]]])"
      ]
     },
     "execution_count": 160,
     "metadata": {},
     "output_type": "execute_result"
    }
   ],
   "source": [
    "x_test4"
   ]
  },
  {
   "cell_type": "code",
   "execution_count": 161,
   "id": "56aadb3f",
   "metadata": {},
   "outputs": [
    {
     "data": {
      "text/plain": [
       "array([[[-100,    1],\n",
       "        [   2,    3]],\n",
       "\n",
       "       [[   4,    5],\n",
       "        [   6,    7]],\n",
       "\n",
       "       [[   8,    9],\n",
       "        [  10,   11]],\n",
       "\n",
       "       [[  12,   13],\n",
       "        [  14,   15]],\n",
       "\n",
       "       [[  16,   17],\n",
       "        [  18,   19]],\n",
       "\n",
       "       [[  20,   21],\n",
       "        [  22,   23]],\n",
       "\n",
       "       [[  24,   25],\n",
       "        [  26,   27]],\n",
       "\n",
       "       [[  28,   29],\n",
       "        [  30,   31]]])"
      ]
     },
     "execution_count": 161,
     "metadata": {},
     "output_type": "execute_result"
    }
   ],
   "source": [
    "x_test"
   ]
  },
  {
   "cell_type": "code",
   "execution_count": 162,
   "id": "97ed0b5e",
   "metadata": {},
   "outputs": [],
   "source": [
    "a = np.append(x_test4, x_test4, axis=0)"
   ]
  },
  {
   "cell_type": "code",
   "execution_count": 163,
   "id": "3cc1ec97",
   "metadata": {},
   "outputs": [
    {
     "data": {
      "text/plain": [
       "(2, 8, 2, 2)"
      ]
     },
     "execution_count": 163,
     "metadata": {},
     "output_type": "execute_result"
    }
   ],
   "source": [
    "a.shape"
   ]
  },
  {
   "cell_type": "code",
   "execution_count": 164,
   "id": "6f18fd0d",
   "metadata": {},
   "outputs": [
    {
     "data": {
      "text/plain": [
       "array([[[[-100,    1],\n",
       "         [   2,    3]],\n",
       "\n",
       "        [[   4,    5],\n",
       "         [   6,    7]],\n",
       "\n",
       "        [[   8,    9],\n",
       "         [  10,   11]],\n",
       "\n",
       "        [[  12,   13],\n",
       "         [  14,   15]],\n",
       "\n",
       "        [[  16,   17],\n",
       "         [  18,   19]],\n",
       "\n",
       "        [[  20,   21],\n",
       "         [  22,   23]],\n",
       "\n",
       "        [[  24,   25],\n",
       "         [  26,   27]],\n",
       "\n",
       "        [[  28,   29],\n",
       "         [  30,   31]]],\n",
       "\n",
       "\n",
       "       [[[-100,    1],\n",
       "         [   2,    3]],\n",
       "\n",
       "        [[   4,    5],\n",
       "         [   6,    7]],\n",
       "\n",
       "        [[   8,    9],\n",
       "         [  10,   11]],\n",
       "\n",
       "        [[  12,   13],\n",
       "         [  14,   15]],\n",
       "\n",
       "        [[  16,   17],\n",
       "         [  18,   19]],\n",
       "\n",
       "        [[  20,   21],\n",
       "         [  22,   23]],\n",
       "\n",
       "        [[  24,   25],\n",
       "         [  26,   27]],\n",
       "\n",
       "        [[  28,   29],\n",
       "         [  30,   31]]]])"
      ]
     },
     "execution_count": 164,
     "metadata": {},
     "output_type": "execute_result"
    }
   ],
   "source": [
    "a"
   ]
  },
  {
   "cell_type": "code",
   "execution_count": 165,
   "id": "d9decfac",
   "metadata": {},
   "outputs": [],
   "source": [
    "b = np.delete(a, 0, axis=0)"
   ]
  },
  {
   "cell_type": "code",
   "execution_count": 166,
   "id": "93c1ef46",
   "metadata": {},
   "outputs": [
    {
     "data": {
      "text/plain": [
       "(1, 8, 2, 2)"
      ]
     },
     "execution_count": 166,
     "metadata": {},
     "output_type": "execute_result"
    }
   ],
   "source": [
    "b.shape"
   ]
  },
  {
   "cell_type": "code",
   "execution_count": 167,
   "id": "4110d1f4",
   "metadata": {},
   "outputs": [
    {
     "data": {
      "text/plain": [
       "array([[[[-100,    1],\n",
       "         [   2,    3]],\n",
       "\n",
       "        [[   4,    5],\n",
       "         [   6,    7]],\n",
       "\n",
       "        [[   8,    9],\n",
       "         [  10,   11]],\n",
       "\n",
       "        [[  12,   13],\n",
       "         [  14,   15]],\n",
       "\n",
       "        [[  16,   17],\n",
       "         [  18,   19]],\n",
       "\n",
       "        [[  20,   21],\n",
       "         [  22,   23]],\n",
       "\n",
       "        [[  24,   25],\n",
       "         [  26,   27]],\n",
       "\n",
       "        [[  28,   29],\n",
       "         [  30,   31]]]])"
      ]
     },
     "execution_count": 167,
     "metadata": {},
     "output_type": "execute_result"
    }
   ],
   "source": [
    "b"
   ]
  },
  {
   "cell_type": "code",
   "execution_count": 169,
   "id": "a8c48440",
   "metadata": {},
   "outputs": [
    {
     "data": {
      "text/plain": [
       "(1, 8, 2, 2)"
      ]
     },
     "execution_count": 169,
     "metadata": {},
     "output_type": "execute_result"
    }
   ],
   "source": [
    "x_test4.shape"
   ]
  },
  {
   "cell_type": "code",
   "execution_count": 170,
   "id": "2cbf8ce0",
   "metadata": {},
   "outputs": [
    {
     "data": {
      "text/plain": [
       "array([[[[-100,    1],\n",
       "         [   2,    3]],\n",
       "\n",
       "        [[   4,    5],\n",
       "         [   6,    7]],\n",
       "\n",
       "        [[   8,    9],\n",
       "         [  10,   11]],\n",
       "\n",
       "        [[  12,   13],\n",
       "         [  14,   15]],\n",
       "\n",
       "        [[  16,   17],\n",
       "         [  18,   19]],\n",
       "\n",
       "        [[  20,   21],\n",
       "         [  22,   23]],\n",
       "\n",
       "        [[  24,   25],\n",
       "         [  26,   27]],\n",
       "\n",
       "        [[  28,   29],\n",
       "         [  30,   31]]]])"
      ]
     },
     "execution_count": 170,
     "metadata": {},
     "output_type": "execute_result"
    }
   ],
   "source": [
    "x_test4"
   ]
  },
  {
   "cell_type": "code",
   "execution_count": 171,
   "id": "eb51cdcc",
   "metadata": {},
   "outputs": [],
   "source": [
    "b = np.expand_dims(x_test4, axis = -1)"
   ]
  },
  {
   "cell_type": "code",
   "execution_count": 172,
   "id": "69bbfd06",
   "metadata": {},
   "outputs": [
    {
     "data": {
      "text/plain": [
       "(1, 8, 2, 2, 1)"
      ]
     },
     "execution_count": 172,
     "metadata": {},
     "output_type": "execute_result"
    }
   ],
   "source": [
    "b.shape"
   ]
  },
  {
   "cell_type": "code",
   "execution_count": 173,
   "id": "fef627ea",
   "metadata": {},
   "outputs": [
    {
     "data": {
      "text/plain": [
       "array([[[[[-100],\n",
       "          [   1]],\n",
       "\n",
       "         [[   2],\n",
       "          [   3]]],\n",
       "\n",
       "\n",
       "        [[[   4],\n",
       "          [   5]],\n",
       "\n",
       "         [[   6],\n",
       "          [   7]]],\n",
       "\n",
       "\n",
       "        [[[   8],\n",
       "          [   9]],\n",
       "\n",
       "         [[  10],\n",
       "          [  11]]],\n",
       "\n",
       "\n",
       "        [[[  12],\n",
       "          [  13]],\n",
       "\n",
       "         [[  14],\n",
       "          [  15]]],\n",
       "\n",
       "\n",
       "        [[[  16],\n",
       "          [  17]],\n",
       "\n",
       "         [[  18],\n",
       "          [  19]]],\n",
       "\n",
       "\n",
       "        [[[  20],\n",
       "          [  21]],\n",
       "\n",
       "         [[  22],\n",
       "          [  23]]],\n",
       "\n",
       "\n",
       "        [[[  24],\n",
       "          [  25]],\n",
       "\n",
       "         [[  26],\n",
       "          [  27]]],\n",
       "\n",
       "\n",
       "        [[[  28],\n",
       "          [  29]],\n",
       "\n",
       "         [[  30],\n",
       "          [  31]]]]])"
      ]
     },
     "execution_count": 173,
     "metadata": {},
     "output_type": "execute_result"
    }
   ],
   "source": [
    "b"
   ]
  },
  {
   "cell_type": "code",
   "execution_count": 174,
   "id": "48f978c8",
   "metadata": {},
   "outputs": [],
   "source": [
    "c = np.squeeze(b)"
   ]
  },
  {
   "cell_type": "code",
   "execution_count": 175,
   "id": "ba74ac7c",
   "metadata": {},
   "outputs": [
    {
     "data": {
      "text/plain": [
       "(8, 2, 2)"
      ]
     },
     "execution_count": 175,
     "metadata": {},
     "output_type": "execute_result"
    }
   ],
   "source": [
    "c.shape"
   ]
  },
  {
   "cell_type": "code",
   "execution_count": 176,
   "id": "474df558",
   "metadata": {},
   "outputs": [
    {
     "data": {
      "text/plain": [
       "array([[[-100,    1],\n",
       "        [   2,    3]],\n",
       "\n",
       "       [[   4,    5],\n",
       "        [   6,    7]],\n",
       "\n",
       "       [[   8,    9],\n",
       "        [  10,   11]],\n",
       "\n",
       "       [[  12,   13],\n",
       "        [  14,   15]],\n",
       "\n",
       "       [[  16,   17],\n",
       "        [  18,   19]],\n",
       "\n",
       "       [[  20,   21],\n",
       "        [  22,   23]],\n",
       "\n",
       "       [[  24,   25],\n",
       "        [  26,   27]],\n",
       "\n",
       "       [[  28,   29],\n",
       "        [  30,   31]]])"
      ]
     },
     "execution_count": 176,
     "metadata": {},
     "output_type": "execute_result"
    }
   ],
   "source": [
    "c"
   ]
  },
  {
   "cell_type": "code",
   "execution_count": 177,
   "id": "90949fea",
   "metadata": {},
   "outputs": [],
   "source": [
    "c = np.squeeze(b, axis=0)"
   ]
  },
  {
   "cell_type": "code",
   "execution_count": 179,
   "id": "76d5fab5",
   "metadata": {},
   "outputs": [
    {
     "data": {
      "text/plain": [
       "(8, 2, 2, 1)"
      ]
     },
     "execution_count": 179,
     "metadata": {},
     "output_type": "execute_result"
    }
   ],
   "source": [
    "c.shape"
   ]
  },
  {
   "cell_type": "code",
   "execution_count": 180,
   "id": "f4b5fb1b",
   "metadata": {},
   "outputs": [
    {
     "data": {
      "text/plain": [
       "array([[[[-100],\n",
       "         [   1]],\n",
       "\n",
       "        [[   2],\n",
       "         [   3]]],\n",
       "\n",
       "\n",
       "       [[[   4],\n",
       "         [   5]],\n",
       "\n",
       "        [[   6],\n",
       "         [   7]]],\n",
       "\n",
       "\n",
       "       [[[   8],\n",
       "         [   9]],\n",
       "\n",
       "        [[  10],\n",
       "         [  11]]],\n",
       "\n",
       "\n",
       "       [[[  12],\n",
       "         [  13]],\n",
       "\n",
       "        [[  14],\n",
       "         [  15]]],\n",
       "\n",
       "\n",
       "       [[[  16],\n",
       "         [  17]],\n",
       "\n",
       "        [[  18],\n",
       "         [  19]]],\n",
       "\n",
       "\n",
       "       [[[  20],\n",
       "         [  21]],\n",
       "\n",
       "        [[  22],\n",
       "         [  23]]],\n",
       "\n",
       "\n",
       "       [[[  24],\n",
       "         [  25]],\n",
       "\n",
       "        [[  26],\n",
       "         [  27]]],\n",
       "\n",
       "\n",
       "       [[[  28],\n",
       "         [  29]],\n",
       "\n",
       "        [[  30],\n",
       "         [  31]]]])"
      ]
     },
     "execution_count": 180,
     "metadata": {},
     "output_type": "execute_result"
    }
   ],
   "source": [
    "c"
   ]
  },
  {
   "cell_type": "code",
   "execution_count": 181,
   "id": "3bf7c05b",
   "metadata": {},
   "outputs": [
    {
     "ename": "ValueError",
     "evalue": "cannot select an axis to squeeze out which has size not equal to one",
     "output_type": "error",
     "traceback": [
      "\u001b[1;31m---------------------------------------------------------------------------\u001b[0m",
      "\u001b[1;31mValueError\u001b[0m                                Traceback (most recent call last)",
      "Cell \u001b[1;32mIn[181], line 1\u001b[0m\n\u001b[1;32m----> 1\u001b[0m c \u001b[38;5;241m=\u001b[39m \u001b[43mnp\u001b[49m\u001b[38;5;241;43m.\u001b[39;49m\u001b[43msqueeze\u001b[49m\u001b[43m(\u001b[49m\u001b[43mb\u001b[49m\u001b[43m,\u001b[49m\u001b[43m \u001b[49m\u001b[43maxis\u001b[49m\u001b[38;5;241;43m=\u001b[39;49m\u001b[38;5;241;43m1\u001b[39;49m\u001b[43m)\u001b[49m\n",
      "File \u001b[1;32m<__array_function__ internals>:180\u001b[0m, in \u001b[0;36msqueeze\u001b[1;34m(*args, **kwargs)\u001b[0m\n",
      "File \u001b[1;32m~\\anaconda3\\lib\\site-packages\\numpy\\core\\fromnumeric.py:1545\u001b[0m, in \u001b[0;36msqueeze\u001b[1;34m(a, axis)\u001b[0m\n\u001b[0;32m   1543\u001b[0m     \u001b[38;5;28;01mreturn\u001b[39;00m squeeze()\n\u001b[0;32m   1544\u001b[0m \u001b[38;5;28;01melse\u001b[39;00m:\n\u001b[1;32m-> 1545\u001b[0m     \u001b[38;5;28;01mreturn\u001b[39;00m \u001b[43msqueeze\u001b[49m\u001b[43m(\u001b[49m\u001b[43maxis\u001b[49m\u001b[38;5;241;43m=\u001b[39;49m\u001b[43maxis\u001b[49m\u001b[43m)\u001b[49m\n",
      "\u001b[1;31mValueError\u001b[0m: cannot select an axis to squeeze out which has size not equal to one"
     ]
    }
   ],
   "source": [
    "c = np.squeeze(b, axis=1)"
   ]
  },
  {
   "cell_type": "code",
   "execution_count": 229,
   "id": "7589072b",
   "metadata": {},
   "outputs": [],
   "source": [
    "a = np.arange(1, 10)"
   ]
  },
  {
   "cell_type": "code",
   "execution_count": 230,
   "id": "73c9e9b5",
   "metadata": {},
   "outputs": [
    {
     "data": {
      "text/plain": [
       "(9,)"
      ]
     },
     "execution_count": 230,
     "metadata": {},
     "output_type": "execute_result"
    }
   ],
   "source": [
    "a.shape"
   ]
  },
  {
   "cell_type": "code",
   "execution_count": 231,
   "id": "8b884b6c",
   "metadata": {},
   "outputs": [
    {
     "data": {
      "text/plain": [
       "array([1, 2, 3, 4, 5, 6, 7, 8, 9])"
      ]
     },
     "execution_count": 231,
     "metadata": {},
     "output_type": "execute_result"
    }
   ],
   "source": [
    "a"
   ]
  },
  {
   "cell_type": "code",
   "execution_count": 234,
   "id": "3e8a3d20",
   "metadata": {},
   "outputs": [],
   "source": [
    "b = a[np.newaxis, :]"
   ]
  },
  {
   "cell_type": "code",
   "execution_count": 236,
   "id": "12756149",
   "metadata": {},
   "outputs": [
    {
     "data": {
      "text/plain": [
       "(1, 9)"
      ]
     },
     "execution_count": 236,
     "metadata": {},
     "output_type": "execute_result"
    }
   ],
   "source": [
    "b.shape"
   ]
  },
  {
   "cell_type": "code",
   "execution_count": 237,
   "id": "0cc412af",
   "metadata": {},
   "outputs": [
    {
     "data": {
      "text/plain": [
       "array([[1, 2, 3, 4, 5, 6, 7, 8, 9]])"
      ]
     },
     "execution_count": 237,
     "metadata": {},
     "output_type": "execute_result"
    }
   ],
   "source": [
    "b"
   ]
  },
  {
   "cell_type": "code",
   "execution_count": 239,
   "id": "dea0400c",
   "metadata": {},
   "outputs": [],
   "source": [
    "b = a[:, np.newaxis]"
   ]
  },
  {
   "cell_type": "code",
   "execution_count": 240,
   "id": "288b0a0a",
   "metadata": {},
   "outputs": [
    {
     "data": {
      "text/plain": [
       "(9, 1)"
      ]
     },
     "execution_count": 240,
     "metadata": {},
     "output_type": "execute_result"
    }
   ],
   "source": [
    "b.shape"
   ]
  },
  {
   "cell_type": "code",
   "execution_count": 241,
   "id": "9b96f9dd",
   "metadata": {},
   "outputs": [
    {
     "data": {
      "text/plain": [
       "array([[1],\n",
       "       [2],\n",
       "       [3],\n",
       "       [4],\n",
       "       [5],\n",
       "       [6],\n",
       "       [7],\n",
       "       [8],\n",
       "       [9]])"
      ]
     },
     "execution_count": 241,
     "metadata": {},
     "output_type": "execute_result"
    }
   ],
   "source": [
    "b"
   ]
  },
  {
   "cell_type": "code",
   "execution_count": 242,
   "id": "16479ba2",
   "metadata": {},
   "outputs": [],
   "source": [
    "c = a[np.newaxis, :, np.newaxis]"
   ]
  },
  {
   "cell_type": "code",
   "execution_count": 243,
   "id": "0939fa02",
   "metadata": {},
   "outputs": [
    {
     "data": {
      "text/plain": [
       "(1, 9, 1)"
      ]
     },
     "execution_count": 243,
     "metadata": {},
     "output_type": "execute_result"
    }
   ],
   "source": [
    "c.shape"
   ]
  },
  {
   "cell_type": "code",
   "execution_count": 244,
   "id": "8766c2eb",
   "metadata": {},
   "outputs": [
    {
     "data": {
      "text/plain": [
       "array([[[1],\n",
       "        [2],\n",
       "        [3],\n",
       "        [4],\n",
       "        [5],\n",
       "        [6],\n",
       "        [7],\n",
       "        [8],\n",
       "        [9]]])"
      ]
     },
     "execution_count": 244,
     "metadata": {},
     "output_type": "execute_result"
    }
   ],
   "source": [
    "c"
   ]
  },
  {
   "cell_type": "code",
   "execution_count": null,
   "id": "aae6dc3b",
   "metadata": {},
   "outputs": [],
   "source": []
  }
 ],
 "metadata": {
  "kernelspec": {
   "display_name": "Python 3 (ipykernel)",
   "language": "python",
   "name": "python3"
  },
  "language_info": {
   "codemirror_mode": {
    "name": "ipython",
    "version": 3
   },
   "file_extension": ".py",
   "mimetype": "text/x-python",
   "name": "python",
   "nbconvert_exporter": "python",
   "pygments_lexer": "ipython3",
   "version": "3.10.9"
  }
 },
 "nbformat": 4,
 "nbformat_minor": 5
}
