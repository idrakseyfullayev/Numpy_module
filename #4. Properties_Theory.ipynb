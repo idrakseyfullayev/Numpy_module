{
 "cells": [
  {
   "cell_type": "markdown",
   "id": "00cb3de2",
   "metadata": {},
   "source": [
    "## Properties functions"
   ]
  },
  {
   "cell_type": "markdown",
   "id": "7fb1c403",
   "metadata": {},
   "source": [
    "\n",
    "---\n",
    "\n",
    "* **dtype** – Numpy massivindəki elementlərin məlumat tipini (`int`, `float`, `bool`, `str` və s.) təyin etmək və ya yoxlamaq üçün istifadə olunur.\n",
    "  `arr = np.array([1, 2, 3], dtype=float)`, `np.array([1, 2, 3])`.dtype\n",
    "\n",
    "---\n",
    "\n",
    "* **size** – Massivdəki ümumi element sayını göstərir.\n",
    "  `arr.size`\n",
    "\n",
    "---\n",
    "\n",
    "* **itemsize** – Massivdəki bir elementin bayt (byte) ölçüsünü göstərir.\n",
    "  `arr.itemsize`\n",
    "\n",
    "---\n",
    "\n",
    "* **ndim** – Massivin neçə ölçülü (dimension) olduğunu göstərir.\n",
    "  `arr.ndim`\n",
    "\n",
    "---\n",
    "\n",
    "* **shape** – Massivin ölçülərini (sətir, sütun və s.) tuple şəklində göstərir.\n",
    "  `arr.shape`\n",
    "\n",
    "---\n",
    "\n",
    "* **T** – Massivin transpozunu (sətirləri sütuna, sütunları sətirə) alır.\n",
    "  `arr.T`\n",
    "\n",
    "---\n",
    "\n",
    "* **view()** – Massivin eyni məlumatları paylaşan yeni görünüşünü (view) yaradır, amma forma dəyişə bilər.\n",
    "  `arr_view = arr.view()`. \n",
    "-  **Qeyd**: `arr_view = arr.view()` yaratdığınız zaman əsas array-in məlumatlarını paylaşır, yəni yeni array yaranmır, sadəcə başqa bir baxış olur. Birində dəyişiklik etsəniz, o biri də dəyişər (əgər dəyişiklik shape və ya dtype ilə bağlı deyilsə).\n",
    "\n",
    "---\n",
    "\n",
    "* **copy()** – Massivin müstəqil surətini yaradır, orijinal massivlə əlaqəli olmur.\n",
    "  `arr_copy = arr.copy()`\n",
    "\n",
    "-  **Qeyd**: copy etdikdə isə tamamilə yeni bir array yaradılır, məlumatlar əsas array-dən kopyalanır. Birində dəyişiklik etsəniz, digərinə təsir etməz.\n",
    "\n",
    "---\n",
    "\n"
   ]
  },
  {
   "cell_type": "code",
   "execution_count": null,
   "id": "12979376",
   "metadata": {},
   "outputs": [],
   "source": []
  }
 ],
 "metadata": {
  "kernelspec": {
   "display_name": "Python 3 (ipykernel)",
   "language": "python",
   "name": "python3"
  },
  "language_info": {
   "codemirror_mode": {
    "name": "ipython",
    "version": 3
   },
   "file_extension": ".py",
   "mimetype": "text/x-python",
   "name": "python",
   "nbconvert_exporter": "python",
   "pygments_lexer": "ipython3",
   "version": "3.11.5"
  }
 },
 "nbformat": 4,
 "nbformat_minor": 5
}
