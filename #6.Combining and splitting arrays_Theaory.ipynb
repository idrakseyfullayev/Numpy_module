{
 "cells": [
  {
   "cell_type": "markdown",
   "id": "a10fe3f6",
   "metadata": {},
   "source": [
    "## Combining and splitting arrays_Theaory"
   ]
  },
  {
   "cell_type": "markdown",
   "id": "626dea89",
   "metadata": {},
   "source": [
    "---\n",
    "\n",
    "* **np.hstack()** – Massivləri üfüqi (sütun istiqamətində, `axis=1`) birləşdirmək üçün istifadə olunur.\n",
    "  `result = np.hstack((arr1, arr2))`\n",
    "\n",
    "---\n",
    "\n",
    "* **np.vstack()** – Massivləri şaquli (sətir istiqamətində, `axis=0`) birləşdirmək üçün istifadə olunur.\n",
    "  `result = np.vstack((arr1, arr2))`\n",
    "\n",
    "---\n",
    "\n",
    "* **np.column\\_stack()** – 1D və ya 2D massivləri sütun istiqamətində (axis=1) birləşdirmək üçün istifadə olunur.\n",
    "  `result = np.column_stack((arr1, arr2))`\n",
    "  \n",
    "* **Qeyd** - 1D massivləri sütun şəklində yəni vertikal olaraq sətir kimi yox, sütun kimi birləşdirir. Yəni, 1D massivlər varsa, onları avtomatik (n,) → (n,1) şəklində transpoze edib sütun kimi birləşdirir. \n",
    "\n",
    "- 1D massivlər sütun kimi (kolonka şəklində) düzülür,\n",
    "- 2D massivlər isə adi qaydada sütun üzrə birləşir.\n",
    "\n",
    "---\n",
    "\n",
    "* **np.row\\_stack()** – Massivləri şaquli (sətir istiqamətində, `axis=0`) birləşdirmək üçün istifadə olunur.\n",
    "  `result = np.row_stack((arr1, arr2))`\n",
    "\n",
    "---\n",
    "\n",
    "* **np.concatenate()** – Verilmiş massivləri istənilən ox üzrə (`axis` parametri ilə) birləşdirmək üçün istifadə olunur.\n",
    "  `result = np.concatenate((arr1, arr2), axis=0)`\n",
    "\n",
    "---\n",
    "\n",
    "* **np.r\\_** – İndeksləmə sintaksisi ilə massivləri üfüqi şəkildə (`axis=0`, yəni sətir səviyyəsində) birləşdirmək və aralıq yaratmaq üçün istifadə olunur.\n",
    "  `arr = np.r_[np.array([1, 2]), np.array([3, 4])]`\n",
    "\n",
    "---\n",
    "\n",
    "* **np.c\\_** – Massivləri sütun kimi (axis=1 üzrə) birləşdirmək və ya sütun halında düzəltmək üçün istifadə olunur.\n",
    "  `arr = np.c_[np.array([1, 2]), np.array([3, 4])]`\n",
    "\n",
    "---\n",
    "\n",
    "* **np.hsplit()** – Massivi üfüqi istiqamətdə (sütunlar üzrə, `axis=1`) hissələrə bölmək üçün istifadə olunur.\n",
    "  `result = np.hsplit(arr, 2)`\n",
    "\n",
    "---\n",
    "\n",
    "* **np.vsplit()** – Massivi şaquli istiqamətdə (sətirlər üzrə, `axis=0`) hissələrə bölmək üçün istifadə olunur.\n",
    "  `result = np.vsplit(arr, 2)`\n",
    "\n",
    "---\n",
    "\n",
    "* **np.array\\_split()** – Massivi istənilən `axis` üzrə (məsələn, `axis=0` və ya `axis=1`) bərabər və ya mümkün olduqca bərabər hissələrə bölmək üçün istifadə olunur.\n",
    "  `result = np.array_split(arr, 3, axis=0)`\n",
    "\n",
    "---\n",
    "\n",
    "\n",
    "\n"
   ]
  },
  {
   "cell_type": "code",
   "execution_count": null,
   "id": "ee06d5ac",
   "metadata": {},
   "outputs": [],
   "source": []
  }
 ],
 "metadata": {
  "kernelspec": {
   "display_name": "Python 3 (ipykernel)",
   "language": "python",
   "name": "python3"
  },
  "language_info": {
   "codemirror_mode": {
    "name": "ipython",
    "version": 3
   },
   "file_extension": ".py",
   "mimetype": "text/x-python",
   "name": "python",
   "nbconvert_exporter": "python",
   "pygments_lexer": "ipython3",
   "version": "3.11.5"
  }
 },
 "nbformat": 4,
 "nbformat_minor": 5
}
