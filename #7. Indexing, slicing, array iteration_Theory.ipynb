{
 "cells": [
  {
   "cell_type": "markdown",
   "id": "80d44f0f",
   "metadata": {},
   "source": [
    "## Indexing, slicing, array iteration"
   ]
  },
  {
   "cell_type": "markdown",
   "id": "16cf8a10",
   "metadata": {},
   "source": [
    "---\n",
    "\n",
    "* **flat** – Massivin bütün elementlərinə ardıcıl şəkildə (1D kimi) iterasiya etməyə imkan verən iterator-dur.\n",
    "  `for item in arr.flat: print(item)`\n",
    "\n",
    "---\n",
    "`a[..., 1, 1]`  \n",
    "- `...` — əvvəlki bütün oxları (axis-ləri) olduğu kimi saxla. `1, 1` — son 2 ox üzrə 1-ci indeksləri götür.**\n"
   ]
  },
  {
   "cell_type": "code",
   "execution_count": null,
   "id": "ea8f0178",
   "metadata": {},
   "outputs": [],
   "source": []
  }
 ],
 "metadata": {
  "kernelspec": {
   "display_name": "Python 3 (ipykernel)",
   "language": "python",
   "name": "python3"
  },
  "language_info": {
   "codemirror_mode": {
    "name": "ipython",
    "version": 3
   },
   "file_extension": ".py",
   "mimetype": "text/x-python",
   "name": "python",
   "nbconvert_exporter": "python",
   "pygments_lexer": "ipython3",
   "version": "3.11.5"
  }
 },
 "nbformat": 4,
 "nbformat_minor": 5
}
